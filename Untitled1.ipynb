{
  "nbformat": 4,
  "nbformat_minor": 0,
  "metadata": {
    "colab": {
      "name": "Untitled1.ipynb",
      "provenance": [],
      "collapsed_sections": [],
      "authorship_tag": "ABX9TyPgL5gBq6DjjAhqeiqRTLtL",
      "include_colab_link": true
    },
    "kernelspec": {
      "name": "python3",
      "display_name": "Python 3"
    },
    "language_info": {
      "name": "python"
    }
  },
  "cells": [
    {
      "cell_type": "markdown",
      "metadata": {
        "id": "view-in-github",
        "colab_type": "text"
      },
      "source": [
        "<a href=\"https://colab.research.google.com/github/wweraw1258/SecLists/blob/master/Untitled1.ipynb\" target=\"_parent\"><img src=\"https://colab.research.google.com/assets/colab-badge.svg\" alt=\"Open In Colab\"/></a>"
      ]
    },
    {
      "cell_type": "code",
      "metadata": {
        "id": "zXt5LQZ7Hawj",
        "colab": {
          "base_uri": "https://localhost:8080/"
        },
        "outputId": "4009feaa-976d-4bae-a2a3-e48a9a528309"
      },
      "source": [
        "import hashlib \n",
        "import itertools\n",
        "\n",
        "\n",
        "#  k=\"xxx\"\n",
        "#  hash=hashlib.sha1(k.encode('utf-8'))\n",
        "#  print(hash.hexdigest())\n",
        "example1 = \"/content/simplepassword.txt\"\n",
        "file1 = open(example1, \"r\")\n",
        "FileasList = file1.readlines()\n",
        "\n",
        "\n",
        "\n",
        "\n",
        "str3=\"no\"\n",
        "\n",
        "for x in FileasList:\n",
        "  str1=''.join(x)\n",
        "  xa = str1.split('\\n')\n",
        "  results = list(map(''.join,itertools.product(*zip(xa[0].upper(), xa[0].lower()))))\n",
        "  for y in results:\n",
        "    m=hashlib.sha1(y.encode('utf-8')).hexdigest()\n",
        "    if(m=='d54cc1fe76f5186380a0939d2fc1723c44e8a5f7'):\n",
        "      print(m)\n",
        "      print(y)\n",
        "      print(\"kuy\")\n",
        "      break\n",
        "  \n",
        "  \n",
        "\n",
        "\n",
        "\n",
        "\n",
        "\n"
      ],
      "execution_count": 34,
      "outputs": [
        {
          "output_type": "stream",
          "text": [
            "d54cc1fe76f5186380a0939d2fc1723c44e8a5f7\n",
            "ThaiLanD\n",
            "kuy\n"
          ],
          "name": "stdout"
        }
      ]
    },
    {
      "cell_type": "code",
      "metadata": {
        "id": "Zoda6XsRkknq"
      },
      "source": [
        ""
      ],
      "execution_count": null,
      "outputs": []
    }
  ]
}